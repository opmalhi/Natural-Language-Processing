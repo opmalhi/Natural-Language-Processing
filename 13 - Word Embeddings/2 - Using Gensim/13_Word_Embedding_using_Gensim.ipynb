{
  "nbformat": 4,
  "nbformat_minor": 0,
  "metadata": {
    "colab": {
      "provenance": []
    },
    "kernelspec": {
      "name": "python3",
      "display_name": "Python 3"
    },
    "language_info": {
      "name": "python"
    }
  },
  "cells": [
    {
      "cell_type": "markdown",
      "source": [
        "Gensim is a Python library for unsupervised topic modeling, document similarity analysis, and vector space modeling in natural language processing. It efficiently handles large text corpora using streaming and incremental algorithms.\n",
        "\n",
        "**Key features include:**\n",
        "- Pre-trained Models: It supports loading pre-trained models like Google News Word2Vec (trained on 3 billion words) and embeddings from Twitter corpora, which help in analyzing different text domains. These models capture semantic relationships between words (e.g., \"king - man + woman ≈ queen\").\n",
        "\n",
        "- Built-in implementations of Word2Vec, FastText, Latent Dirichlet Allocation( LDA), and Latent Semantic Analysis (LSA).\n",
        "\n",
        "- Built on NumPy and SciPy, leveraging optimized mathematical operations.\n"
      ],
      "metadata": {
        "id": "z9RpVDkyoTXK"
      }
    },
    {
      "cell_type": "code",
      "execution_count": null,
      "metadata": {
        "colab": {
          "base_uri": "https://localhost:8080/"
        },
        "id": "vZ6Mh943VbLN",
        "outputId": "e912265f-05f3-49ba-8106-263adbd91591"
      },
      "outputs": [
        {
          "output_type": "stream",
          "name": "stdout",
          "text": [
            "[==================================================] 100.0% 1662.8/1662.8MB downloaded\n"
          ]
        }
      ],
      "source": [
        "import gensim.downloader as api\n",
        "wv = api.load('word2vec-google-news-300')"
      ]
    },
    {
      "cell_type": "code",
      "source": [
        "wv.similarity(w1=\"great\", w2=\"good\")"
      ],
      "metadata": {
        "colab": {
          "base_uri": "https://localhost:8080/"
        },
        "id": "TDp5Xx0Jruvs",
        "outputId": "fb9123c0-8ff5-4ec4-91b4-bf76c4d0d5cc"
      },
      "execution_count": null,
      "outputs": [
        {
          "output_type": "execute_result",
          "data": {
            "text/plain": [
              "0.729151"
            ]
          },
          "metadata": {},
          "execution_count": 2
        }
      ]
    },
    {
      "cell_type": "code",
      "source": [
        "wv_great = wv[\"great\"]\n",
        "wv_good = wv[\"good\"]"
      ],
      "metadata": {
        "id": "PElee-b1yfPu"
      },
      "execution_count": null,
      "outputs": []
    },
    {
      "cell_type": "code",
      "source": [
        "wv_great.shape, wv_good.shape"
      ],
      "metadata": {
        "colab": {
          "base_uri": "https://localhost:8080/"
        },
        "id": "KkN_Ez2yyhH7",
        "outputId": "03579b05-1188-4e58-9aa7-66cf127c816e"
      },
      "execution_count": null,
      "outputs": [
        {
          "output_type": "execute_result",
          "data": {
            "text/plain": [
              "((300,), (300,))"
            ]
          },
          "metadata": {},
          "execution_count": 18
        }
      ]
    },
    {
      "cell_type": "code",
      "source": [
        "wv.most_similar(\"good\")"
      ],
      "metadata": {
        "colab": {
          "base_uri": "https://localhost:8080/"
        },
        "id": "1JziVza7sKvn",
        "outputId": "b3f7bb83-434e-4472-9c2f-9e39b9b60843"
      },
      "execution_count": null,
      "outputs": [
        {
          "output_type": "execute_result",
          "data": {
            "text/plain": [
              "[('great', 0.7291510105133057),\n",
              " ('bad', 0.7190051078796387),\n",
              " ('terrific', 0.6889115571975708),\n",
              " ('decent', 0.6837348341941833),\n",
              " ('nice', 0.6836092472076416),\n",
              " ('excellent', 0.644292950630188),\n",
              " ('fantastic', 0.6407778263092041),\n",
              " ('better', 0.6120728850364685),\n",
              " ('solid', 0.5806034803390503),\n",
              " ('lousy', 0.576420247554779)]"
            ]
          },
          "metadata": {},
          "execution_count": 3
        }
      ]
    },
    {
      "cell_type": "code",
      "source": [
        "wv.doesnt_match([\"facebook\", \"cat\", \"google\", \"microsoft\"])"
      ],
      "metadata": {
        "colab": {
          "base_uri": "https://localhost:8080/",
          "height": 35
        },
        "id": "4rEVarctswDl",
        "outputId": "3cdca6a6-3b1d-430c-d601-bb543bf72d3d"
      },
      "execution_count": null,
      "outputs": [
        {
          "output_type": "execute_result",
          "data": {
            "text/plain": [
              "'cat'"
            ],
            "application/vnd.google.colaboratory.intrinsic+json": {
              "type": "string"
            }
          },
          "metadata": {},
          "execution_count": 6
        }
      ]
    },
    {
      "cell_type": "code",
      "source": [
        "wv.most_similar(positive=['king', 'woman'], negative=['man'])"
      ],
      "metadata": {
        "colab": {
          "base_uri": "https://localhost:8080/"
        },
        "id": "HuK8TGZysjtc",
        "outputId": "1e75fc52-a523-47bb-e8d3-4bef4640c8fc"
      },
      "execution_count": null,
      "outputs": [
        {
          "output_type": "execute_result",
          "data": {
            "text/plain": [
              "[('queen', 0.7118193507194519),\n",
              " ('monarch', 0.6189674139022827),\n",
              " ('princess', 0.5902431011199951),\n",
              " ('crown_prince', 0.5499460697174072),\n",
              " ('prince', 0.5377321839332581),\n",
              " ('kings', 0.5236844420433044),\n",
              " ('Queen_Consort', 0.5235945582389832),\n",
              " ('queens', 0.5181134343147278),\n",
              " ('sultan', 0.5098593831062317),\n",
              " ('monarchy', 0.5087411999702454)]"
            ]
          },
          "metadata": {},
          "execution_count": 4
        }
      ]
    },
    {
      "cell_type": "code",
      "source": [
        "wv.most_similar(positive=['france', 'berlin'], negative=['paris'], topn=5)"
      ],
      "metadata": {
        "colab": {
          "base_uri": "https://localhost:8080/"
        },
        "id": "_jkW5_cqsomv",
        "outputId": "c6f497d6-adf2-43f5-aec8-f22a34abe0e1"
      },
      "execution_count": null,
      "outputs": [
        {
          "output_type": "execute_result",
          "data": {
            "text/plain": [
              "[('germany', 0.5094343423843384),\n",
              " ('european', 0.48650455474853516),\n",
              " ('german', 0.4714890420436859),\n",
              " ('austria', 0.46964022517204285),\n",
              " ('swedish', 0.4645182490348816)]"
            ]
          },
          "metadata": {},
          "execution_count": 5
        }
      ]
    },
    {
      "cell_type": "markdown",
      "source": [
        "#Fake vs Real News Classification Using This Word2Vec Embeddings\n",
        "\n",
        "- We are going to address these problems using classical NLP techniques and going to classify whether a given message/ text is **Real or Fake Message.**\n",
        "\n",
        "- We will use **glove embeddings** from spacy which is trained on massive wikipedia dataset to pre-process and text vectorization and apply different classification algorithms.\n",
        "\n",
        "\n",
        "\n",
        "---\n",
        "\n",
        "**Dataset**\n",
        "\n",
        "Credits: https://www.kaggle.com/datasets/clmentbisaillon/fake-and-real-news-dataset\n",
        "\n",
        "- This data consists of two columns. - Text - label\n",
        "\n",
        "- As there are only 2 classes, this problem comes under the Binary Classification."
      ],
      "metadata": {
        "id": "X2kSl_qns8CN"
      }
    },
    {
      "cell_type": "code",
      "source": [
        "import pandas as pd\n",
        "\n",
        "df = pd.read_csv('/content/fake_and_real_news.csv')\n",
        "\n",
        "df.shape"
      ],
      "metadata": {
        "colab": {
          "base_uri": "https://localhost:8080/"
        },
        "id": "EIlxCrFvsvYc",
        "outputId": "788e4910-b041-4b22-f6ab-b7fdac500135"
      },
      "execution_count": null,
      "outputs": [
        {
          "output_type": "execute_result",
          "data": {
            "text/plain": [
              "(9900, 2)"
            ]
          },
          "metadata": {},
          "execution_count": 8
        }
      ]
    },
    {
      "cell_type": "code",
      "source": [
        "df.head()"
      ],
      "metadata": {
        "colab": {
          "base_uri": "https://localhost:8080/",
          "height": 206
        },
        "id": "0wTsyD1CtuiH",
        "outputId": "22cbdeb7-a4ec-4df4-88d4-97ae8747b7d2"
      },
      "execution_count": null,
      "outputs": [
        {
          "output_type": "execute_result",
          "data": {
            "text/plain": [
              "                                                Text label\n",
              "0   Top Trump Surrogate BRUTALLY Stabs Him In The...  Fake\n",
              "1  U.S. conservative leader optimistic of common ...  Real\n",
              "2  Trump proposes U.S. tax overhaul, stirs concer...  Real\n",
              "3   Court Forces Ohio To Allow Millions Of Illega...  Fake\n",
              "4  Democrats say Trump agrees to work on immigrat...  Real"
            ],
            "text/html": [
              "\n",
              "  <div id=\"df-155e73ac-2a5c-4d01-a9ee-0cf8e4572421\" class=\"colab-df-container\">\n",
              "    <div>\n",
              "<style scoped>\n",
              "    .dataframe tbody tr th:only-of-type {\n",
              "        vertical-align: middle;\n",
              "    }\n",
              "\n",
              "    .dataframe tbody tr th {\n",
              "        vertical-align: top;\n",
              "    }\n",
              "\n",
              "    .dataframe thead th {\n",
              "        text-align: right;\n",
              "    }\n",
              "</style>\n",
              "<table border=\"1\" class=\"dataframe\">\n",
              "  <thead>\n",
              "    <tr style=\"text-align: right;\">\n",
              "      <th></th>\n",
              "      <th>Text</th>\n",
              "      <th>label</th>\n",
              "    </tr>\n",
              "  </thead>\n",
              "  <tbody>\n",
              "    <tr>\n",
              "      <th>0</th>\n",
              "      <td>Top Trump Surrogate BRUTALLY Stabs Him In The...</td>\n",
              "      <td>Fake</td>\n",
              "    </tr>\n",
              "    <tr>\n",
              "      <th>1</th>\n",
              "      <td>U.S. conservative leader optimistic of common ...</td>\n",
              "      <td>Real</td>\n",
              "    </tr>\n",
              "    <tr>\n",
              "      <th>2</th>\n",
              "      <td>Trump proposes U.S. tax overhaul, stirs concer...</td>\n",
              "      <td>Real</td>\n",
              "    </tr>\n",
              "    <tr>\n",
              "      <th>3</th>\n",
              "      <td>Court Forces Ohio To Allow Millions Of Illega...</td>\n",
              "      <td>Fake</td>\n",
              "    </tr>\n",
              "    <tr>\n",
              "      <th>4</th>\n",
              "      <td>Democrats say Trump agrees to work on immigrat...</td>\n",
              "      <td>Real</td>\n",
              "    </tr>\n",
              "  </tbody>\n",
              "</table>\n",
              "</div>\n",
              "    <div class=\"colab-df-buttons\">\n",
              "\n",
              "  <div class=\"colab-df-container\">\n",
              "    <button class=\"colab-df-convert\" onclick=\"convertToInteractive('df-155e73ac-2a5c-4d01-a9ee-0cf8e4572421')\"\n",
              "            title=\"Convert this dataframe to an interactive table.\"\n",
              "            style=\"display:none;\">\n",
              "\n",
              "  <svg xmlns=\"http://www.w3.org/2000/svg\" height=\"24px\" viewBox=\"0 -960 960 960\">\n",
              "    <path d=\"M120-120v-720h720v720H120Zm60-500h600v-160H180v160Zm220 220h160v-160H400v160Zm0 220h160v-160H400v160ZM180-400h160v-160H180v160Zm440 0h160v-160H620v160ZM180-180h160v-160H180v160Zm440 0h160v-160H620v160Z\"/>\n",
              "  </svg>\n",
              "    </button>\n",
              "\n",
              "  <style>\n",
              "    .colab-df-container {\n",
              "      display:flex;\n",
              "      gap: 12px;\n",
              "    }\n",
              "\n",
              "    .colab-df-convert {\n",
              "      background-color: #E8F0FE;\n",
              "      border: none;\n",
              "      border-radius: 50%;\n",
              "      cursor: pointer;\n",
              "      display: none;\n",
              "      fill: #1967D2;\n",
              "      height: 32px;\n",
              "      padding: 0 0 0 0;\n",
              "      width: 32px;\n",
              "    }\n",
              "\n",
              "    .colab-df-convert:hover {\n",
              "      background-color: #E2EBFA;\n",
              "      box-shadow: 0px 1px 2px rgba(60, 64, 67, 0.3), 0px 1px 3px 1px rgba(60, 64, 67, 0.15);\n",
              "      fill: #174EA6;\n",
              "    }\n",
              "\n",
              "    .colab-df-buttons div {\n",
              "      margin-bottom: 4px;\n",
              "    }\n",
              "\n",
              "    [theme=dark] .colab-df-convert {\n",
              "      background-color: #3B4455;\n",
              "      fill: #D2E3FC;\n",
              "    }\n",
              "\n",
              "    [theme=dark] .colab-df-convert:hover {\n",
              "      background-color: #434B5C;\n",
              "      box-shadow: 0px 1px 3px 1px rgba(0, 0, 0, 0.15);\n",
              "      filter: drop-shadow(0px 1px 2px rgba(0, 0, 0, 0.3));\n",
              "      fill: #FFFFFF;\n",
              "    }\n",
              "  </style>\n",
              "\n",
              "    <script>\n",
              "      const buttonEl =\n",
              "        document.querySelector('#df-155e73ac-2a5c-4d01-a9ee-0cf8e4572421 button.colab-df-convert');\n",
              "      buttonEl.style.display =\n",
              "        google.colab.kernel.accessAllowed ? 'block' : 'none';\n",
              "\n",
              "      async function convertToInteractive(key) {\n",
              "        const element = document.querySelector('#df-155e73ac-2a5c-4d01-a9ee-0cf8e4572421');\n",
              "        const dataTable =\n",
              "          await google.colab.kernel.invokeFunction('convertToInteractive',\n",
              "                                                    [key], {});\n",
              "        if (!dataTable) return;\n",
              "\n",
              "        const docLinkHtml = 'Like what you see? Visit the ' +\n",
              "          '<a target=\"_blank\" href=https://colab.research.google.com/notebooks/data_table.ipynb>data table notebook</a>'\n",
              "          + ' to learn more about interactive tables.';\n",
              "        element.innerHTML = '';\n",
              "        dataTable['output_type'] = 'display_data';\n",
              "        await google.colab.output.renderOutput(dataTable, element);\n",
              "        const docLink = document.createElement('div');\n",
              "        docLink.innerHTML = docLinkHtml;\n",
              "        element.appendChild(docLink);\n",
              "      }\n",
              "    </script>\n",
              "  </div>\n",
              "\n",
              "\n",
              "<div id=\"df-04310c0c-be49-4e1b-9c9b-9f8554cc7249\">\n",
              "  <button class=\"colab-df-quickchart\" onclick=\"quickchart('df-04310c0c-be49-4e1b-9c9b-9f8554cc7249')\"\n",
              "            title=\"Suggest charts\"\n",
              "            style=\"display:none;\">\n",
              "\n",
              "<svg xmlns=\"http://www.w3.org/2000/svg\" height=\"24px\"viewBox=\"0 0 24 24\"\n",
              "     width=\"24px\">\n",
              "    <g>\n",
              "        <path d=\"M19 3H5c-1.1 0-2 .9-2 2v14c0 1.1.9 2 2 2h14c1.1 0 2-.9 2-2V5c0-1.1-.9-2-2-2zM9 17H7v-7h2v7zm4 0h-2V7h2v10zm4 0h-2v-4h2v4z\"/>\n",
              "    </g>\n",
              "</svg>\n",
              "  </button>\n",
              "\n",
              "<style>\n",
              "  .colab-df-quickchart {\n",
              "      --bg-color: #E8F0FE;\n",
              "      --fill-color: #1967D2;\n",
              "      --hover-bg-color: #E2EBFA;\n",
              "      --hover-fill-color: #174EA6;\n",
              "      --disabled-fill-color: #AAA;\n",
              "      --disabled-bg-color: #DDD;\n",
              "  }\n",
              "\n",
              "  [theme=dark] .colab-df-quickchart {\n",
              "      --bg-color: #3B4455;\n",
              "      --fill-color: #D2E3FC;\n",
              "      --hover-bg-color: #434B5C;\n",
              "      --hover-fill-color: #FFFFFF;\n",
              "      --disabled-bg-color: #3B4455;\n",
              "      --disabled-fill-color: #666;\n",
              "  }\n",
              "\n",
              "  .colab-df-quickchart {\n",
              "    background-color: var(--bg-color);\n",
              "    border: none;\n",
              "    border-radius: 50%;\n",
              "    cursor: pointer;\n",
              "    display: none;\n",
              "    fill: var(--fill-color);\n",
              "    height: 32px;\n",
              "    padding: 0;\n",
              "    width: 32px;\n",
              "  }\n",
              "\n",
              "  .colab-df-quickchart:hover {\n",
              "    background-color: var(--hover-bg-color);\n",
              "    box-shadow: 0 1px 2px rgba(60, 64, 67, 0.3), 0 1px 3px 1px rgba(60, 64, 67, 0.15);\n",
              "    fill: var(--button-hover-fill-color);\n",
              "  }\n",
              "\n",
              "  .colab-df-quickchart-complete:disabled,\n",
              "  .colab-df-quickchart-complete:disabled:hover {\n",
              "    background-color: var(--disabled-bg-color);\n",
              "    fill: var(--disabled-fill-color);\n",
              "    box-shadow: none;\n",
              "  }\n",
              "\n",
              "  .colab-df-spinner {\n",
              "    border: 2px solid var(--fill-color);\n",
              "    border-color: transparent;\n",
              "    border-bottom-color: var(--fill-color);\n",
              "    animation:\n",
              "      spin 1s steps(1) infinite;\n",
              "  }\n",
              "\n",
              "  @keyframes spin {\n",
              "    0% {\n",
              "      border-color: transparent;\n",
              "      border-bottom-color: var(--fill-color);\n",
              "      border-left-color: var(--fill-color);\n",
              "    }\n",
              "    20% {\n",
              "      border-color: transparent;\n",
              "      border-left-color: var(--fill-color);\n",
              "      border-top-color: var(--fill-color);\n",
              "    }\n",
              "    30% {\n",
              "      border-color: transparent;\n",
              "      border-left-color: var(--fill-color);\n",
              "      border-top-color: var(--fill-color);\n",
              "      border-right-color: var(--fill-color);\n",
              "    }\n",
              "    40% {\n",
              "      border-color: transparent;\n",
              "      border-right-color: var(--fill-color);\n",
              "      border-top-color: var(--fill-color);\n",
              "    }\n",
              "    60% {\n",
              "      border-color: transparent;\n",
              "      border-right-color: var(--fill-color);\n",
              "    }\n",
              "    80% {\n",
              "      border-color: transparent;\n",
              "      border-right-color: var(--fill-color);\n",
              "      border-bottom-color: var(--fill-color);\n",
              "    }\n",
              "    90% {\n",
              "      border-color: transparent;\n",
              "      border-bottom-color: var(--fill-color);\n",
              "    }\n",
              "  }\n",
              "</style>\n",
              "\n",
              "  <script>\n",
              "    async function quickchart(key) {\n",
              "      const quickchartButtonEl =\n",
              "        document.querySelector('#' + key + ' button');\n",
              "      quickchartButtonEl.disabled = true;  // To prevent multiple clicks.\n",
              "      quickchartButtonEl.classList.add('colab-df-spinner');\n",
              "      try {\n",
              "        const charts = await google.colab.kernel.invokeFunction(\n",
              "            'suggestCharts', [key], {});\n",
              "      } catch (error) {\n",
              "        console.error('Error during call to suggestCharts:', error);\n",
              "      }\n",
              "      quickchartButtonEl.classList.remove('colab-df-spinner');\n",
              "      quickchartButtonEl.classList.add('colab-df-quickchart-complete');\n",
              "    }\n",
              "    (() => {\n",
              "      let quickchartButtonEl =\n",
              "        document.querySelector('#df-04310c0c-be49-4e1b-9c9b-9f8554cc7249 button');\n",
              "      quickchartButtonEl.style.display =\n",
              "        google.colab.kernel.accessAllowed ? 'block' : 'none';\n",
              "    })();\n",
              "  </script>\n",
              "</div>\n",
              "\n",
              "    </div>\n",
              "  </div>\n"
            ],
            "application/vnd.google.colaboratory.intrinsic+json": {
              "type": "dataframe",
              "variable_name": "df",
              "summary": "{\n  \"name\": \"df\",\n  \"rows\": 9900,\n  \"fields\": [\n    {\n      \"column\": \"Text\",\n      \"properties\": {\n        \"dtype\": \"string\",\n        \"num_unique_values\": 9865,\n        \"samples\": [\n          \" ICYMI: SNL Skewers \\u201cMorning Joe\\u201d And It Is Hilarious This week s cold open for Saturday Night Live featured a parody of the morning show, Morning Joe. The sketch featured Alex Moffat as host Joe Scarborough and Kate McKinnon as Mika Mika Brzezinski. The sketch also has Alec Baldwin as President Donald Trump, who calls into the show as  John Miller,  a spokesperson for the White House. Back in the day, Trump was known for calling reporters all over the New York area pretending to be his own publicist. He would call, not to tout his business successes but to brag about his sex life.The sketch also made fun of the relationship between the hosts. The pair got engaged recently when they were celebrating Mika s 50th birthday. The sketch shows the response from the other panelists on the show, Mark Halperin, Willie Geist and Mike Barnacle, who all have no idea how to respond to Joe and Mika s behavior on the set.Featured image via Frederick M. Brown/Getty Images.\",\n          \" BOMBSHELL: Information Suggests Trump Associates DID Collude With Russia, According To Officials Wednesday was not a good day to be Donald Trump. In the aftermath of the disastrous Comey hearing where it was confirmed that The Donald s team was indeed being investigated   and of Rep. Nunes  decision to skip informing his fellow congressional Russia investigators of perfectly legal  incidental collection  of information about Trump associates and possibly the President* himself and run to The Donald with it instead   Trump has been flailing, attempting to distract from the whole Russia thing as much as possible.That s going to be very hard now, as U.S. officials have now confirmed that the facts suggest that members of his team were indeed working with the enemy. CNN reports:The FBI has information that indicates associates of President Donald Trump communicated with suspected Russian operatives to possibly coordinate the release of information damaging to Hillary Clinton s campaign, US officials told CNN.\",\n          \" Vladimir Putin Just Defended Trump In The WORST Way Possible (VIDEO) According to Russian dictator Vladimir Putin, it s silly to worry about little things like whether or not a couple of Russian ladies peed on Donald Trump s bed because it s much, much worse to publish memos that reveal these allegations.Putin says that there is a conspiracy to  delegitimize  the man and his team of hackers, fake news writers, and trolls he worked hard to install in the Oval Office by hacking Trump s political opponents and running an aggressive propaganda campaign. I don t know Mr. Trump, I have never met him, I don t know what he will do in the international arena, so I have no reason either to attack him, criticize him or defend him, Putin said at a press conference. Donald Trump has been with the most beautiful women in the world, so why would he need prostitutes in Moscow? To answer that question, we need only look to a 2001 edition of the Howard Stern Show in which Trump was reminded that he bragged that he likes to go to Russia to have sex with women because they  have no morals. Putin says that Russian security services  do not chase every US billionaire,  and that the release of the documents was worse than prostitutes. In a way, he s right, as the documents presented to both Trump and President Obama also allege that members of the President-elect s campaign staff directly worked with the Russian government during the campaign.On numerous occasions, Trump has repeated Russian propaganda while attacking U.S. intelligence agencies that have been exposing him for what he is and, of course, has directly quoted Putin (a man whom Trump says is  very smart ) while hurling barbs at Hillary Clinton.Trump and Putin have been screaming about the  fake news  release of actual documents that actual intelligence agencies are in possession of, but the BBC reported recently that the whole pissing Russian ladies thing is just the tip of the iceberg. Correspondent Paul Wood revealed last week that at least four sources have confirmed the information, with one U.S. intelligence source informing him that there is audio and video of The Donald s escapades, and an Israeli news source reports that the country s spies have been warned against sharing information with the United States for fear that Trump will relay it to Putin.Putin and Trump s bromance is disconcerting at best   especially when more than a baker s dozen intelligence agencies have confirmed that the man who stood up to join Trump in his attacks on our intelligence agencies has been confirmed to have interfered in our election.Watch it below:Featured image via Getty Images\"\n        ],\n        \"semantic_type\": \"\",\n        \"description\": \"\"\n      }\n    },\n    {\n      \"column\": \"label\",\n      \"properties\": {\n        \"dtype\": \"category\",\n        \"num_unique_values\": 2,\n        \"samples\": [\n          \"Real\",\n          \"Fake\"\n        ],\n        \"semantic_type\": \"\",\n        \"description\": \"\"\n      }\n    }\n  ]\n}"
            }
          },
          "metadata": {},
          "execution_count": 9
        }
      ]
    },
    {
      "cell_type": "code",
      "source": [
        "df['label'].value_counts()"
      ],
      "metadata": {
        "colab": {
          "base_uri": "https://localhost:8080/",
          "height": 178
        },
        "id": "l_-MVIRZtwBk",
        "outputId": "330d0af3-dda5-4e9f-8e58-7d221450a922"
      },
      "execution_count": null,
      "outputs": [
        {
          "output_type": "execute_result",
          "data": {
            "text/plain": [
              "label\n",
              "Fake    5000\n",
              "Real    4900\n",
              "Name: count, dtype: int64"
            ],
            "text/html": [
              "<div>\n",
              "<style scoped>\n",
              "    .dataframe tbody tr th:only-of-type {\n",
              "        vertical-align: middle;\n",
              "    }\n",
              "\n",
              "    .dataframe tbody tr th {\n",
              "        vertical-align: top;\n",
              "    }\n",
              "\n",
              "    .dataframe thead th {\n",
              "        text-align: right;\n",
              "    }\n",
              "</style>\n",
              "<table border=\"1\" class=\"dataframe\">\n",
              "  <thead>\n",
              "    <tr style=\"text-align: right;\">\n",
              "      <th></th>\n",
              "      <th>count</th>\n",
              "    </tr>\n",
              "    <tr>\n",
              "      <th>label</th>\n",
              "      <th></th>\n",
              "    </tr>\n",
              "  </thead>\n",
              "  <tbody>\n",
              "    <tr>\n",
              "      <th>Fake</th>\n",
              "      <td>5000</td>\n",
              "    </tr>\n",
              "    <tr>\n",
              "      <th>Real</th>\n",
              "      <td>4900</td>\n",
              "    </tr>\n",
              "  </tbody>\n",
              "</table>\n",
              "</div><br><label><b>dtype:</b> int64</label>"
            ]
          },
          "metadata": {},
          "execution_count": 10
        }
      ]
    },
    {
      "cell_type": "markdown",
      "source": [
        "This dataset is balanced both classes have almost same number of samples so we don't need to apply any balanced technique such as oversampling (SMOTE), undersampling etc."
      ],
      "metadata": {
        "id": "52iM2j7kt3N4"
      }
    },
    {
      "cell_type": "code",
      "source": [
        "df['label_num'] = df['label'].map({\n",
        "    'Fake': 0,\n",
        "    'Real': 1\n",
        "})\n",
        "\n",
        "df.head()"
      ],
      "metadata": {
        "colab": {
          "base_uri": "https://localhost:8080/",
          "height": 206
        },
        "id": "rzBha-fLt2dp",
        "outputId": "7f3e40a2-6ad7-4673-ce1d-5e2b557e34f5"
      },
      "execution_count": null,
      "outputs": [
        {
          "output_type": "execute_result",
          "data": {
            "text/plain": [
              "                                                Text label  label_num\n",
              "0   Top Trump Surrogate BRUTALLY Stabs Him In The...  Fake          0\n",
              "1  U.S. conservative leader optimistic of common ...  Real          1\n",
              "2  Trump proposes U.S. tax overhaul, stirs concer...  Real          1\n",
              "3   Court Forces Ohio To Allow Millions Of Illega...  Fake          0\n",
              "4  Democrats say Trump agrees to work on immigrat...  Real          1"
            ],
            "text/html": [
              "\n",
              "  <div id=\"df-8ca2ce22-0456-45d7-b39f-998ec2d37bc3\" class=\"colab-df-container\">\n",
              "    <div>\n",
              "<style scoped>\n",
              "    .dataframe tbody tr th:only-of-type {\n",
              "        vertical-align: middle;\n",
              "    }\n",
              "\n",
              "    .dataframe tbody tr th {\n",
              "        vertical-align: top;\n",
              "    }\n",
              "\n",
              "    .dataframe thead th {\n",
              "        text-align: right;\n",
              "    }\n",
              "</style>\n",
              "<table border=\"1\" class=\"dataframe\">\n",
              "  <thead>\n",
              "    <tr style=\"text-align: right;\">\n",
              "      <th></th>\n",
              "      <th>Text</th>\n",
              "      <th>label</th>\n",
              "      <th>label_num</th>\n",
              "    </tr>\n",
              "  </thead>\n",
              "  <tbody>\n",
              "    <tr>\n",
              "      <th>0</th>\n",
              "      <td>Top Trump Surrogate BRUTALLY Stabs Him In The...</td>\n",
              "      <td>Fake</td>\n",
              "      <td>0</td>\n",
              "    </tr>\n",
              "    <tr>\n",
              "      <th>1</th>\n",
              "      <td>U.S. conservative leader optimistic of common ...</td>\n",
              "      <td>Real</td>\n",
              "      <td>1</td>\n",
              "    </tr>\n",
              "    <tr>\n",
              "      <th>2</th>\n",
              "      <td>Trump proposes U.S. tax overhaul, stirs concer...</td>\n",
              "      <td>Real</td>\n",
              "      <td>1</td>\n",
              "    </tr>\n",
              "    <tr>\n",
              "      <th>3</th>\n",
              "      <td>Court Forces Ohio To Allow Millions Of Illega...</td>\n",
              "      <td>Fake</td>\n",
              "      <td>0</td>\n",
              "    </tr>\n",
              "    <tr>\n",
              "      <th>4</th>\n",
              "      <td>Democrats say Trump agrees to work on immigrat...</td>\n",
              "      <td>Real</td>\n",
              "      <td>1</td>\n",
              "    </tr>\n",
              "  </tbody>\n",
              "</table>\n",
              "</div>\n",
              "    <div class=\"colab-df-buttons\">\n",
              "\n",
              "  <div class=\"colab-df-container\">\n",
              "    <button class=\"colab-df-convert\" onclick=\"convertToInteractive('df-8ca2ce22-0456-45d7-b39f-998ec2d37bc3')\"\n",
              "            title=\"Convert this dataframe to an interactive table.\"\n",
              "            style=\"display:none;\">\n",
              "\n",
              "  <svg xmlns=\"http://www.w3.org/2000/svg\" height=\"24px\" viewBox=\"0 -960 960 960\">\n",
              "    <path d=\"M120-120v-720h720v720H120Zm60-500h600v-160H180v160Zm220 220h160v-160H400v160Zm0 220h160v-160H400v160ZM180-400h160v-160H180v160Zm440 0h160v-160H620v160ZM180-180h160v-160H180v160Zm440 0h160v-160H620v160Z\"/>\n",
              "  </svg>\n",
              "    </button>\n",
              "\n",
              "  <style>\n",
              "    .colab-df-container {\n",
              "      display:flex;\n",
              "      gap: 12px;\n",
              "    }\n",
              "\n",
              "    .colab-df-convert {\n",
              "      background-color: #E8F0FE;\n",
              "      border: none;\n",
              "      border-radius: 50%;\n",
              "      cursor: pointer;\n",
              "      display: none;\n",
              "      fill: #1967D2;\n",
              "      height: 32px;\n",
              "      padding: 0 0 0 0;\n",
              "      width: 32px;\n",
              "    }\n",
              "\n",
              "    .colab-df-convert:hover {\n",
              "      background-color: #E2EBFA;\n",
              "      box-shadow: 0px 1px 2px rgba(60, 64, 67, 0.3), 0px 1px 3px 1px rgba(60, 64, 67, 0.15);\n",
              "      fill: #174EA6;\n",
              "    }\n",
              "\n",
              "    .colab-df-buttons div {\n",
              "      margin-bottom: 4px;\n",
              "    }\n",
              "\n",
              "    [theme=dark] .colab-df-convert {\n",
              "      background-color: #3B4455;\n",
              "      fill: #D2E3FC;\n",
              "    }\n",
              "\n",
              "    [theme=dark] .colab-df-convert:hover {\n",
              "      background-color: #434B5C;\n",
              "      box-shadow: 0px 1px 3px 1px rgba(0, 0, 0, 0.15);\n",
              "      filter: drop-shadow(0px 1px 2px rgba(0, 0, 0, 0.3));\n",
              "      fill: #FFFFFF;\n",
              "    }\n",
              "  </style>\n",
              "\n",
              "    <script>\n",
              "      const buttonEl =\n",
              "        document.querySelector('#df-8ca2ce22-0456-45d7-b39f-998ec2d37bc3 button.colab-df-convert');\n",
              "      buttonEl.style.display =\n",
              "        google.colab.kernel.accessAllowed ? 'block' : 'none';\n",
              "\n",
              "      async function convertToInteractive(key) {\n",
              "        const element = document.querySelector('#df-8ca2ce22-0456-45d7-b39f-998ec2d37bc3');\n",
              "        const dataTable =\n",
              "          await google.colab.kernel.invokeFunction('convertToInteractive',\n",
              "                                                    [key], {});\n",
              "        if (!dataTable) return;\n",
              "\n",
              "        const docLinkHtml = 'Like what you see? Visit the ' +\n",
              "          '<a target=\"_blank\" href=https://colab.research.google.com/notebooks/data_table.ipynb>data table notebook</a>'\n",
              "          + ' to learn more about interactive tables.';\n",
              "        element.innerHTML = '';\n",
              "        dataTable['output_type'] = 'display_data';\n",
              "        await google.colab.output.renderOutput(dataTable, element);\n",
              "        const docLink = document.createElement('div');\n",
              "        docLink.innerHTML = docLinkHtml;\n",
              "        element.appendChild(docLink);\n",
              "      }\n",
              "    </script>\n",
              "  </div>\n",
              "\n",
              "\n",
              "<div id=\"df-6675e9aa-2a0a-4136-85d4-8e5acc67d65f\">\n",
              "  <button class=\"colab-df-quickchart\" onclick=\"quickchart('df-6675e9aa-2a0a-4136-85d4-8e5acc67d65f')\"\n",
              "            title=\"Suggest charts\"\n",
              "            style=\"display:none;\">\n",
              "\n",
              "<svg xmlns=\"http://www.w3.org/2000/svg\" height=\"24px\"viewBox=\"0 0 24 24\"\n",
              "     width=\"24px\">\n",
              "    <g>\n",
              "        <path d=\"M19 3H5c-1.1 0-2 .9-2 2v14c0 1.1.9 2 2 2h14c1.1 0 2-.9 2-2V5c0-1.1-.9-2-2-2zM9 17H7v-7h2v7zm4 0h-2V7h2v10zm4 0h-2v-4h2v4z\"/>\n",
              "    </g>\n",
              "</svg>\n",
              "  </button>\n",
              "\n",
              "<style>\n",
              "  .colab-df-quickchart {\n",
              "      --bg-color: #E8F0FE;\n",
              "      --fill-color: #1967D2;\n",
              "      --hover-bg-color: #E2EBFA;\n",
              "      --hover-fill-color: #174EA6;\n",
              "      --disabled-fill-color: #AAA;\n",
              "      --disabled-bg-color: #DDD;\n",
              "  }\n",
              "\n",
              "  [theme=dark] .colab-df-quickchart {\n",
              "      --bg-color: #3B4455;\n",
              "      --fill-color: #D2E3FC;\n",
              "      --hover-bg-color: #434B5C;\n",
              "      --hover-fill-color: #FFFFFF;\n",
              "      --disabled-bg-color: #3B4455;\n",
              "      --disabled-fill-color: #666;\n",
              "  }\n",
              "\n",
              "  .colab-df-quickchart {\n",
              "    background-color: var(--bg-color);\n",
              "    border: none;\n",
              "    border-radius: 50%;\n",
              "    cursor: pointer;\n",
              "    display: none;\n",
              "    fill: var(--fill-color);\n",
              "    height: 32px;\n",
              "    padding: 0;\n",
              "    width: 32px;\n",
              "  }\n",
              "\n",
              "  .colab-df-quickchart:hover {\n",
              "    background-color: var(--hover-bg-color);\n",
              "    box-shadow: 0 1px 2px rgba(60, 64, 67, 0.3), 0 1px 3px 1px rgba(60, 64, 67, 0.15);\n",
              "    fill: var(--button-hover-fill-color);\n",
              "  }\n",
              "\n",
              "  .colab-df-quickchart-complete:disabled,\n",
              "  .colab-df-quickchart-complete:disabled:hover {\n",
              "    background-color: var(--disabled-bg-color);\n",
              "    fill: var(--disabled-fill-color);\n",
              "    box-shadow: none;\n",
              "  }\n",
              "\n",
              "  .colab-df-spinner {\n",
              "    border: 2px solid var(--fill-color);\n",
              "    border-color: transparent;\n",
              "    border-bottom-color: var(--fill-color);\n",
              "    animation:\n",
              "      spin 1s steps(1) infinite;\n",
              "  }\n",
              "\n",
              "  @keyframes spin {\n",
              "    0% {\n",
              "      border-color: transparent;\n",
              "      border-bottom-color: var(--fill-color);\n",
              "      border-left-color: var(--fill-color);\n",
              "    }\n",
              "    20% {\n",
              "      border-color: transparent;\n",
              "      border-left-color: var(--fill-color);\n",
              "      border-top-color: var(--fill-color);\n",
              "    }\n",
              "    30% {\n",
              "      border-color: transparent;\n",
              "      border-left-color: var(--fill-color);\n",
              "      border-top-color: var(--fill-color);\n",
              "      border-right-color: var(--fill-color);\n",
              "    }\n",
              "    40% {\n",
              "      border-color: transparent;\n",
              "      border-right-color: var(--fill-color);\n",
              "      border-top-color: var(--fill-color);\n",
              "    }\n",
              "    60% {\n",
              "      border-color: transparent;\n",
              "      border-right-color: var(--fill-color);\n",
              "    }\n",
              "    80% {\n",
              "      border-color: transparent;\n",
              "      border-right-color: var(--fill-color);\n",
              "      border-bottom-color: var(--fill-color);\n",
              "    }\n",
              "    90% {\n",
              "      border-color: transparent;\n",
              "      border-bottom-color: var(--fill-color);\n",
              "    }\n",
              "  }\n",
              "</style>\n",
              "\n",
              "  <script>\n",
              "    async function quickchart(key) {\n",
              "      const quickchartButtonEl =\n",
              "        document.querySelector('#' + key + ' button');\n",
              "      quickchartButtonEl.disabled = true;  // To prevent multiple clicks.\n",
              "      quickchartButtonEl.classList.add('colab-df-spinner');\n",
              "      try {\n",
              "        const charts = await google.colab.kernel.invokeFunction(\n",
              "            'suggestCharts', [key], {});\n",
              "      } catch (error) {\n",
              "        console.error('Error during call to suggestCharts:', error);\n",
              "      }\n",
              "      quickchartButtonEl.classList.remove('colab-df-spinner');\n",
              "      quickchartButtonEl.classList.add('colab-df-quickchart-complete');\n",
              "    }\n",
              "    (() => {\n",
              "      let quickchartButtonEl =\n",
              "        document.querySelector('#df-6675e9aa-2a0a-4136-85d4-8e5acc67d65f button');\n",
              "      quickchartButtonEl.style.display =\n",
              "        google.colab.kernel.accessAllowed ? 'block' : 'none';\n",
              "    })();\n",
              "  </script>\n",
              "</div>\n",
              "\n",
              "    </div>\n",
              "  </div>\n"
            ],
            "application/vnd.google.colaboratory.intrinsic+json": {
              "type": "dataframe",
              "variable_name": "df",
              "summary": "{\n  \"name\": \"df\",\n  \"rows\": 9900,\n  \"fields\": [\n    {\n      \"column\": \"Text\",\n      \"properties\": {\n        \"dtype\": \"string\",\n        \"num_unique_values\": 9865,\n        \"samples\": [\n          \" ICYMI: SNL Skewers \\u201cMorning Joe\\u201d And It Is Hilarious This week s cold open for Saturday Night Live featured a parody of the morning show, Morning Joe. The sketch featured Alex Moffat as host Joe Scarborough and Kate McKinnon as Mika Mika Brzezinski. The sketch also has Alec Baldwin as President Donald Trump, who calls into the show as  John Miller,  a spokesperson for the White House. Back in the day, Trump was known for calling reporters all over the New York area pretending to be his own publicist. He would call, not to tout his business successes but to brag about his sex life.The sketch also made fun of the relationship between the hosts. The pair got engaged recently when they were celebrating Mika s 50th birthday. The sketch shows the response from the other panelists on the show, Mark Halperin, Willie Geist and Mike Barnacle, who all have no idea how to respond to Joe and Mika s behavior on the set.Featured image via Frederick M. Brown/Getty Images.\",\n          \" BOMBSHELL: Information Suggests Trump Associates DID Collude With Russia, According To Officials Wednesday was not a good day to be Donald Trump. In the aftermath of the disastrous Comey hearing where it was confirmed that The Donald s team was indeed being investigated   and of Rep. Nunes  decision to skip informing his fellow congressional Russia investigators of perfectly legal  incidental collection  of information about Trump associates and possibly the President* himself and run to The Donald with it instead   Trump has been flailing, attempting to distract from the whole Russia thing as much as possible.That s going to be very hard now, as U.S. officials have now confirmed that the facts suggest that members of his team were indeed working with the enemy. CNN reports:The FBI has information that indicates associates of President Donald Trump communicated with suspected Russian operatives to possibly coordinate the release of information damaging to Hillary Clinton s campaign, US officials told CNN.\",\n          \" Vladimir Putin Just Defended Trump In The WORST Way Possible (VIDEO) According to Russian dictator Vladimir Putin, it s silly to worry about little things like whether or not a couple of Russian ladies peed on Donald Trump s bed because it s much, much worse to publish memos that reveal these allegations.Putin says that there is a conspiracy to  delegitimize  the man and his team of hackers, fake news writers, and trolls he worked hard to install in the Oval Office by hacking Trump s political opponents and running an aggressive propaganda campaign. I don t know Mr. Trump, I have never met him, I don t know what he will do in the international arena, so I have no reason either to attack him, criticize him or defend him, Putin said at a press conference. Donald Trump has been with the most beautiful women in the world, so why would he need prostitutes in Moscow? To answer that question, we need only look to a 2001 edition of the Howard Stern Show in which Trump was reminded that he bragged that he likes to go to Russia to have sex with women because they  have no morals. Putin says that Russian security services  do not chase every US billionaire,  and that the release of the documents was worse than prostitutes. In a way, he s right, as the documents presented to both Trump and President Obama also allege that members of the President-elect s campaign staff directly worked with the Russian government during the campaign.On numerous occasions, Trump has repeated Russian propaganda while attacking U.S. intelligence agencies that have been exposing him for what he is and, of course, has directly quoted Putin (a man whom Trump says is  very smart ) while hurling barbs at Hillary Clinton.Trump and Putin have been screaming about the  fake news  release of actual documents that actual intelligence agencies are in possession of, but the BBC reported recently that the whole pissing Russian ladies thing is just the tip of the iceberg. Correspondent Paul Wood revealed last week that at least four sources have confirmed the information, with one U.S. intelligence source informing him that there is audio and video of The Donald s escapades, and an Israeli news source reports that the country s spies have been warned against sharing information with the United States for fear that Trump will relay it to Putin.Putin and Trump s bromance is disconcerting at best   especially when more than a baker s dozen intelligence agencies have confirmed that the man who stood up to join Trump in his attacks on our intelligence agencies has been confirmed to have interfered in our election.Watch it below:Featured image via Getty Images\"\n        ],\n        \"semantic_type\": \"\",\n        \"description\": \"\"\n      }\n    },\n    {\n      \"column\": \"label\",\n      \"properties\": {\n        \"dtype\": \"category\",\n        \"num_unique_values\": 2,\n        \"samples\": [\n          \"Real\",\n          \"Fake\"\n        ],\n        \"semantic_type\": \"\",\n        \"description\": \"\"\n      }\n    },\n    {\n      \"column\": \"label_num\",\n      \"properties\": {\n        \"dtype\": \"number\",\n        \"std\": 0,\n        \"min\": 0,\n        \"max\": 1,\n        \"num_unique_values\": 2,\n        \"samples\": [\n          1,\n          0\n        ],\n        \"semantic_type\": \"\",\n        \"description\": \"\"\n      }\n    }\n  ]\n}"
            }
          },
          "metadata": {},
          "execution_count": 11
        }
      ]
    },
    {
      "cell_type": "markdown",
      "source": [
        "#Pre-Processing"
      ],
      "metadata": {
        "id": "UjrwH78HuxdC"
      }
    },
    {
      "cell_type": "markdown",
      "source": [
        "**Now we will convert the text into a vector using gensim's word2vec embeddings.**\n",
        "1. Preprocess the text to remove stopping words, punctuations and get lemma for each word.\n",
        "2. Get word vectors for each of the words in a pre-processed sentence\n",
        "3. Take a mean of all word vectors to derive the numeric representation of the entire news article."
      ],
      "metadata": {
        "id": "FjMuOvUuxE8F"
      }
    },
    {
      "cell_type": "code",
      "source": [
        "wv_good[:5]"
      ],
      "metadata": {
        "colab": {
          "base_uri": "https://localhost:8080/"
        },
        "id": "wCIqfQlByJj0",
        "outputId": "8979f61e-023c-43e2-a84c-d6c3828bbbf9"
      },
      "execution_count": null,
      "outputs": [
        {
          "output_type": "execute_result",
          "data": {
            "text/plain": [
              "array([ 0.04052734,  0.0625    , -0.01745605,  0.07861328,  0.03271484],\n",
              "      dtype=float32)"
            ]
          },
          "metadata": {},
          "execution_count": 25
        }
      ]
    },
    {
      "cell_type": "code",
      "source": [
        "wv_great[:5]"
      ],
      "metadata": {
        "colab": {
          "base_uri": "https://localhost:8080/"
        },
        "id": "C2bdpZEZyrn1",
        "outputId": "9a100acf-8892-43e4-eab9-dbf521543a75"
      },
      "execution_count": null,
      "outputs": [
        {
          "output_type": "execute_result",
          "data": {
            "text/plain": [
              "array([ 0.07177734,  0.20800781, -0.02844238,  0.17871094,  0.1328125 ],\n",
              "      dtype=float32)"
            ]
          },
          "metadata": {},
          "execution_count": 26
        }
      ]
    },
    {
      "cell_type": "code",
      "source": [
        "import numpy as np\n",
        "r1 = np.mean([wv_good, wv_great], axis=0)\n",
        "r1[:5]"
      ],
      "metadata": {
        "colab": {
          "base_uri": "https://localhost:8080/"
        },
        "id": "fBFhfnJEywD8",
        "outputId": "74a1d551-aee4-4e3d-9259-e4c513c85e4d"
      },
      "execution_count": null,
      "outputs": [
        {
          "output_type": "execute_result",
          "data": {
            "text/plain": [
              "array([ 0.05615234,  0.1352539 , -0.02294922,  0.12866211,  0.08276367],\n",
              "      dtype=float32)"
            ]
          },
          "metadata": {},
          "execution_count": 27
        }
      ]
    },
    {
      "cell_type": "code",
      "source": [
        "r2 = wv.get_mean_vector([\"good\", \"great\"], pre_normalize=False)\n",
        "r2[:5]"
      ],
      "metadata": {
        "colab": {
          "base_uri": "https://localhost:8080/"
        },
        "id": "juG_4TeRy0TX",
        "outputId": "05895d99-dedd-431c-e773-46d8111de51b"
      },
      "execution_count": null,
      "outputs": [
        {
          "output_type": "execute_result",
          "data": {
            "text/plain": [
              "array([ 0.05615234,  0.1352539 , -0.02294922,  0.12866211,  0.08276367],\n",
              "      dtype=float32)"
            ]
          },
          "metadata": {},
          "execution_count": 29
        }
      ]
    },
    {
      "cell_type": "code",
      "source": [
        "#i'm running this code at colab so i need to download library\n",
        "!python -m spacy download en_core_web_lg"
      ],
      "metadata": {
        "id": "HVuGAxb5vLTI"
      },
      "execution_count": null,
      "outputs": []
    },
    {
      "cell_type": "code",
      "source": [
        "import spacy\n",
        "nlp = spacy.load('en_core_web_lg')\n",
        "\n",
        "def preprocessing_and_vectorize(text):\n",
        "  doc = nlp(text)\n",
        "  filtered_tokens = []\n",
        "\n",
        "  for token in doc:\n",
        "    if token.is_stop or token.is_punct:\n",
        "      continue\n",
        "    filtered_tokens.append(token.lemma_)\n",
        "\n",
        "  return wv.get_mean_vector(filtered_tokens)\n"
      ],
      "metadata": {
        "colab": {
          "base_uri": "https://localhost:8080/"
        },
        "id": "YqzrEMsTupDE",
        "outputId": "58affeea-fbf4-4394-c711-cc8d247ec278"
      },
      "execution_count": null,
      "outputs": [
        {
          "output_type": "stream",
          "name": "stderr",
          "text": [
            "/usr/local/lib/python3.11/dist-packages/spacy/util.py:1740: UserWarning: [W111] Jupyter notebook detected: if using `prefer_gpu()` or `require_gpu()`, include it in the same cell right before `spacy.load()` to ensure that the model is loaded on the correct device. More information: http://spacy.io/usage/v3#jupyter-notebook-gpu\n",
            "  warnings.warn(Warnings.W111)\n"
          ]
        }
      ]
    },
    {
      "cell_type": "code",
      "source": [
        "df['vector'] = df['Text'].apply(lambda x: preprocessing_and_vectorize(x))"
      ],
      "metadata": {
        "id": "DTYl0oeVvCVy"
      },
      "execution_count": null,
      "outputs": []
    },
    {
      "cell_type": "markdown",
      "source": [
        "#Splitting Dataset"
      ],
      "metadata": {
        "id": "cibkeAMB0lCz"
      }
    },
    {
      "cell_type": "code",
      "source": [
        "from sklearn.model_selection import train_test_split\n",
        "\n",
        "X_train, X_test, y_train, y_test = train_test_split(df['vector'].values, df['label_num'], test_size=0.2, random_state=42, stratify=df['label_num'])"
      ],
      "metadata": {
        "id": "6Bw_lnkK0b1u"
      },
      "execution_count": null,
      "outputs": []
    },
    {
      "cell_type": "markdown",
      "source": [
        "Reshaping the X_train and X_test so as to fit for models"
      ],
      "metadata": {
        "id": "iqz9ulHb1I-r"
      }
    },
    {
      "cell_type": "code",
      "source": [
        "print(\"Shape of X_train before reshaping: \", X_train.shape)\n",
        "print(\"Shape of X_test before reshaping: \", X_test.shape)\n",
        "\n",
        "X_train_2d = np.stack(X_train)\n",
        "X_test_2d = np.stack(X_test)\n",
        "\n",
        "print(\"Shape of X_train after reshaping: \", X_train_2d.shape)\n",
        "print(\"Shape of X_test after reshaping: \", X_test_2d.shape)"
      ],
      "metadata": {
        "colab": {
          "base_uri": "https://localhost:8080/"
        },
        "id": "CqWn893Q1DJv",
        "outputId": "f6895ab1-ab6d-40b0-8193-0c934eef1fb8"
      },
      "execution_count": null,
      "outputs": [
        {
          "output_type": "stream",
          "name": "stdout",
          "text": [
            "Shape of X_train before reshaping:  (7920,)\n",
            "Shape of X_test before reshaping:  (1980,)\n",
            "Shape of X_train after reshaping:  (7920, 300)\n",
            "Shape of X_test after reshaping:  (1980, 300)\n"
          ]
        }
      ]
    },
    {
      "cell_type": "markdown",
      "source": [
        "#Model Training"
      ],
      "metadata": {
        "id": "J8ROnQxl1p4O"
      }
    },
    {
      "cell_type": "code",
      "source": [
        "from sklearn.tree import DecisionTreeClassifier\n",
        "from sklearn.metrics import classification_report\n",
        "\n",
        "clf = DecisionTreeClassifier()\n",
        "\n",
        "clf.fit(X_train_2d, y_train)\n",
        "\n",
        "y_pred = clf.predict(X_test_2d)\n",
        "\n",
        "print(classification_report(y_test, y_pred))"
      ],
      "metadata": {
        "colab": {
          "base_uri": "https://localhost:8080/"
        },
        "id": "Jr5q5uwg1RQs",
        "outputId": "1e685682-68ae-4f2d-b870-d470e2c56127"
      },
      "execution_count": null,
      "outputs": [
        {
          "output_type": "stream",
          "name": "stdout",
          "text": [
            "              precision    recall  f1-score   support\n",
            "\n",
            "           0       0.91      0.92      0.92      1000\n",
            "           1       0.92      0.91      0.91       980\n",
            "\n",
            "    accuracy                           0.91      1980\n",
            "   macro avg       0.91      0.91      0.91      1980\n",
            "weighted avg       0.91      0.91      0.91      1980\n",
            "\n"
          ]
        }
      ]
    },
    {
      "cell_type": "code",
      "source": [
        "from sklearn.ensemble import RandomForestClassifier\n",
        "\n",
        "clf = RandomForestClassifier()\n",
        "\n",
        "clf.fit(X_train_2d, y_train)\n",
        "\n",
        "y_pred = clf.predict(X_test_2d)\n",
        "\n",
        "print(classification_report(y_test, y_pred))"
      ],
      "metadata": {
        "colab": {
          "base_uri": "https://localhost:8080/"
        },
        "id": "yM0aRjBa2U0y",
        "outputId": "d57bf4dd-fd94-4146-9e12-e57841418abd"
      },
      "execution_count": null,
      "outputs": [
        {
          "output_type": "stream",
          "name": "stdout",
          "text": [
            "              precision    recall  f1-score   support\n",
            "\n",
            "           0       0.97      0.97      0.97      1000\n",
            "           1       0.97      0.97      0.97       980\n",
            "\n",
            "    accuracy                           0.97      1980\n",
            "   macro avg       0.97      0.97      0.97      1980\n",
            "weighted avg       0.97      0.97      0.97      1980\n",
            "\n"
          ]
        }
      ]
    },
    {
      "cell_type": "code",
      "source": [
        "from sklearn.naive_bayes import MultinomialNB\n",
        "from sklearn.preprocessing import MinMaxScaler\n",
        "\n",
        "scaler = MinMaxScaler()\n",
        "X_train_scaled = scaler.fit_transform(X_train_2d)\n",
        "X_test_scaled = scaler.transform(X_test_2d)\n",
        "\n",
        "clf = MultinomialNB()\n",
        "\n",
        "clf.fit(X_train_scaled, y_train)\n",
        "\n",
        "y_pred = clf.predict(X_test_scaled)\n",
        "\n",
        "print(classification_report(y_test, y_pred))"
      ],
      "metadata": {
        "colab": {
          "base_uri": "https://localhost:8080/"
        },
        "id": "ySXJzEwm2mX8",
        "outputId": "9d1d5a0e-aede-4e15-f0aa-cd9316e6615a"
      },
      "execution_count": null,
      "outputs": [
        {
          "output_type": "stream",
          "name": "stdout",
          "text": [
            "              precision    recall  f1-score   support\n",
            "\n",
            "           0       0.94      0.94      0.94      1000\n",
            "           1       0.94      0.94      0.94       980\n",
            "\n",
            "    accuracy                           0.94      1980\n",
            "   macro avg       0.94      0.94      0.94      1980\n",
            "weighted avg       0.94      0.94      0.94      1980\n",
            "\n"
          ]
        }
      ]
    },
    {
      "cell_type": "code",
      "source": [
        "from sklearn.ensemble import GradientBoostingClassifier\n",
        "\n",
        "clf = GradientBoostingClassifier()\n",
        "\n",
        "clf.fit(X_train_2d, y_train)\n",
        "\n",
        "y_pred = clf.predict(X_test_2d)\n",
        "\n",
        "print(classification_report(y_test, y_pred))"
      ],
      "metadata": {
        "colab": {
          "base_uri": "https://localhost:8080/"
        },
        "id": "rgQm5tgJ21RX",
        "outputId": "bc75863f-2b2c-499a-a6f5-239c1a7ea907"
      },
      "execution_count": null,
      "outputs": [
        {
          "output_type": "stream",
          "name": "stdout",
          "text": [
            "              precision    recall  f1-score   support\n",
            "\n",
            "           0       0.98      0.98      0.98      1000\n",
            "           1       0.98      0.98      0.98       980\n",
            "\n",
            "    accuracy                           0.98      1980\n",
            "   macro avg       0.98      0.98      0.98      1980\n",
            "weighted avg       0.98      0.98      0.98      1980\n",
            "\n"
          ]
        }
      ]
    },
    {
      "cell_type": "markdown",
      "source": [
        "#Confusion Matrix"
      ],
      "metadata": {
        "id": "PqS4IpOA30O_"
      }
    },
    {
      "cell_type": "code",
      "source": [
        "from sklearn.metrics import confusion_matrix\n",
        "from matplotlib import pyplot as plt\n",
        "import seaborn as sns\n",
        "\n",
        "cm = confusion_matrix(y_test, y_pred)\n",
        "cm"
      ],
      "metadata": {
        "colab": {
          "base_uri": "https://localhost:8080/"
        },
        "id": "m_SX4zU23HmP",
        "outputId": "68f38836-e3dd-403b-9f66-5e87ac6aef54"
      },
      "execution_count": null,
      "outputs": [
        {
          "output_type": "execute_result",
          "data": {
            "text/plain": [
              "array([[979,  21],\n",
              "       [ 16, 964]])"
            ]
          },
          "metadata": {},
          "execution_count": 46
        }
      ]
    },
    {
      "cell_type": "code",
      "source": [
        "plt.figure(figsize=(6,4))\n",
        "sns.heatmap(cm, annot=True, fmt='d')\n",
        "plt.xlabel('Predicted')\n",
        "plt.ylabel('Truth')"
      ],
      "metadata": {
        "colab": {
          "base_uri": "https://localhost:8080/",
          "height": 405
        },
        "id": "g4eZlVTJ3V0M",
        "outputId": "4d307b09-e797-4df8-83a8-b92fc6d716a3"
      },
      "execution_count": null,
      "outputs": [
        {
          "output_type": "execute_result",
          "data": {
            "text/plain": [
              "Text(45.722222222222214, 0.5, 'Truth')"
            ]
          },
          "metadata": {},
          "execution_count": 47
        },
        {
          "output_type": "display_data",
          "data": {
            "text/plain": [
              "<Figure size 600x400 with 2 Axes>"
            ],
            "image/png": "[encoded data removed]"
          },
          "metadata": {}
        }
      ]
    },
    {
      "cell_type": "markdown",
      "source": [
        "Making some predictions"
      ],
      "metadata": {
        "id": "SwJAZuDL4z0D"
      }
    },
    {
      "cell_type": "code",
      "source": [
        "test_news = [\n",
        "    \"Michigan governor denies misleading U.S. House on Flint water (Reuters) - Michigan Governor Rick Snyder denied Thursday that he had misled a U.S. House of Representatives committee last year over testimony on Flintâ€™s water crisis after lawmakers asked if his testimony had been contradicted by a witness in a court hearing. The House Oversight and Government Reform Committee wrote Snyder earlier Thursday asking him about published reports that one of his aides, Harvey Hollins, testified in a court hearing last week in Michigan that he had notified Snyder of an outbreak of Legionnairesâ€™ disease linked to the Flint water crisis in December 2015, rather than 2016 as Snyder had testified. â€œMy testimony was truthful and I stand by it,â€ Snyder told the committee in a letter, adding that his office has provided tens of thousands of pages of records to the committee and would continue to cooperate fully.  Last week, prosecutors in Michigan said Dr. Eden Wells, the stateâ€™s chief medical executive who already faced lesser charges, would become the sixth current or former official to face involuntary manslaughter charges in connection with the crisis. The charges stem from more than 80 cases of Legionnairesâ€™ disease and at least 12 deaths that were believed to be linked to the water in Flint after the city switched its source from Lake Huron to the Flint River in April 2014. Wells was among six current and former Michigan and Flint officials charged in June. The other five, including Michigan Health and Human Services Director Nick Lyon, were charged at the time with involuntary manslaughter\",\n",
        "    \" WATCH: Fox News Host Loses Her Sh*t, Says Investigating Russia For Hacking Our Election Is Unpatriotic This woman is insane.In an incredibly disrespectful rant against President Obama and anyone else who supports investigating Russian interference in our election, Fox News host Jeanine Pirro said that anybody who is against Donald Trump is anti-American. Look, it s time to take sides,  she began.\",\n",
        "    \" Sarah Palin Celebrates After White Man Who Pulled Gun On Black Protesters Goes Unpunished (VIDEO) Sarah Palin, one of the nigh-innumerable  deplorables  in Donald Trump s  basket,  almost outdid herself in terms of horribleness on Friday.\"\n",
        "]\n",
        "\n",
        "test_news_vectors = [preprocessing_and_vectorize(n) for n in test_news]\n",
        "clf.predict(test_news_vectors)"
      ],
      "metadata": {
        "colab": {
          "base_uri": "https://localhost:8080/"
        },
        "id": "5cYsefKX4yiM",
        "outputId": "e2934507-01c4-4bda-d0c8-d3c5bdbd5b0b"
      },
      "execution_count": null,
      "outputs": [
        {
          "output_type": "execute_result",
          "data": {
            "text/plain": [
              "array([1, 0, 0])"
            ]
          },
          "metadata": {},
          "execution_count": 49
        }
      ]
    }
  ]
}