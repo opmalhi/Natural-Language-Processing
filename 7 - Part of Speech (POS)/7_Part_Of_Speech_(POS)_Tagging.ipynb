{
  "nbformat": 4,
  "nbformat_minor": 0,
  "metadata": {
    "colab": {
      "provenance": []
    },
    "kernelspec": {
      "name": "python3",
      "display_name": "Python 3"
    },
    "language_info": {
      "name": "python"
    }
  },
  "cells": [
    {
      "cell_type": "code",
      "execution_count": null,
      "metadata": {
        "id": "aAnT69DVmuGh"
      },
      "outputs": [],
      "source": [
        "import spacy"
      ]
    },
    {
      "cell_type": "code",
      "source": [
        "nlp = spacy.load(\"en_core_web_sm\")"
      ],
      "metadata": {
        "id": "9_dbi4yTo-_l"
      },
      "execution_count": null,
      "outputs": []
    },
    {
      "cell_type": "markdown",
      "source": [
        "#Part of Speech (POS) Tags"
      ],
      "metadata": {
        "id": "SZVXJ50Wq5e5"
      }
    },
    {
      "cell_type": "code",
      "source": [
        "doc = nlp(\"We had a three-course meal. Brad came to dinner with us\")\n",
        "\n",
        "for token in doc:\n",
        "  print(token, \" | \", token.pos_, \" | \", spacy.explain(token.pos_))"
      ],
      "metadata": {
        "colab": {
          "base_uri": "https://localhost:8080/"
        },
        "id": "3dVBa0NepFb4",
        "outputId": "f4673161-c800-4d8a-f1fe-95f6fee669eb"
      },
      "execution_count": null,
      "outputs": [
        {
          "output_type": "stream",
          "name": "stdout",
          "text": [
            "We  |  PRON  |  pronoun\n",
            "had  |  VERB  |  verb\n",
            "a  |  DET  |  determiner\n",
            "three  |  NUM  |  numeral\n",
            "-  |  PUNCT  |  punctuation\n",
            "course  |  NOUN  |  noun\n",
            "meal  |  NOUN  |  noun\n",
            ".  |  PUNCT  |  punctuation\n",
            "Brad  |  PROPN  |  proper noun\n",
            "came  |  VERB  |  verb\n",
            "to  |  ADP  |  adposition\n",
            "dinner  |  NOUN  |  noun\n",
            "with  |  ADP  |  adposition\n",
            "us  |  PRON  |  pronoun\n"
          ]
        }
      ]
    },
    {
      "cell_type": "markdown",
      "source": [
        "#Tags"
      ],
      "metadata": {
        "id": "AelvhgeSshTY"
      }
    },
    {
      "cell_type": "code",
      "source": [
        "doc = nlp(\"Wow! Dr. Strange made $265 million on the very first day\")\n",
        "\n",
        "for token in doc:\n",
        "  print(token, \" | \", token.pos_, \" | \", spacy.explain(token.pos_), \" | \", token.tag_, \" | \", spacy.explain(token.tag_))"
      ],
      "metadata": {
        "colab": {
          "base_uri": "https://localhost:8080/"
        },
        "id": "NpTZohi3pkqN",
        "outputId": "6ff5066b-0e6b-492b-d678-7b43ba51f30c"
      },
      "execution_count": null,
      "outputs": [
        {
          "output_type": "stream",
          "name": "stdout",
          "text": [
            "Wow  |  INTJ  |  interjection  |  UH  |  interjection\n",
            "!  |  PUNCT  |  punctuation  |  .  |  punctuation mark, sentence closer\n",
            "Dr.  |  PROPN  |  proper noun  |  NNP  |  noun, proper singular\n",
            "Strange  |  PROPN  |  proper noun  |  NNP  |  noun, proper singular\n",
            "made  |  VERB  |  verb  |  VBD  |  verb, past tense\n",
            "$  |  SYM  |  symbol  |  $  |  symbol, currency\n",
            "265  |  NUM  |  numeral  |  CD  |  cardinal number\n",
            "million  |  NUM  |  numeral  |  CD  |  cardinal number\n",
            "on  |  ADP  |  adposition  |  IN  |  conjunction, subordinating or preposition\n",
            "the  |  DET  |  determiner  |  DT  |  determiner\n",
            "very  |  ADV  |  adverb  |  RB  |  adverb\n",
            "first  |  ADJ  |  adjective  |  JJ  |  adjective (English), other noun-modifier (Chinese)\n",
            "day  |  NOUN  |  noun  |  NN  |  noun, singular or mass\n"
          ]
        }
      ]
    },
    {
      "cell_type": "markdown",
      "source": [
        "#Let's figure out the sentense whether it is present or past tense"
      ],
      "metadata": {
        "id": "TLLgLphasE5R"
      }
    },
    {
      "cell_type": "code",
      "source": [
        "doc = nlp(\"He quits the job\")\n",
        "\n",
        "print(doc[1].text, \"|\", doc[1].tag_, \"|\", spacy.explain(doc[1].tag_))"
      ],
      "metadata": {
        "colab": {
          "base_uri": "https://localhost:8080/"
        },
        "id": "dZH7OsT7sSmt",
        "outputId": "745a938a-3ff0-4c34-f143-23feba53b9eb"
      },
      "execution_count": null,
      "outputs": [
        {
          "output_type": "stream",
          "name": "stdout",
          "text": [
            "quits | VBZ | verb, 3rd person singular present\n"
          ]
        }
      ]
    },
    {
      "cell_type": "code",
      "source": [
        "doc = nlp(\"He quit the job\")\n",
        "\n",
        "print(doc[1].text, \"|\", doc[1].tag_, \"|\", spacy.explain(doc[1].tag_))"
      ],
      "metadata": {
        "colab": {
          "base_uri": "https://localhost:8080/"
        },
        "id": "F3L2oXRysTXL",
        "outputId": "0528ad1c-f3f2-4b15-94ff-70b473b10d15"
      },
      "execution_count": null,
      "outputs": [
        {
          "output_type": "stream",
          "name": "stdout",
          "text": [
            "quit | VBD | verb, past tense\n"
          ]
        }
      ]
    },
    {
      "cell_type": "markdown",
      "source": [
        "#Remove all SPACE, PUNCT and X token from text"
      ],
      "metadata": {
        "id": "J7oDJPlQs06l"
      }
    },
    {
      "cell_type": "code",
      "source": [
        "earnings_text=\"\"\"Microsoft Corp. today announced the following results for the quarter ended December 31, 2021, as compared to the corresponding period of last fiscal year:\n",
        "\n",
        "·         Revenue was $51.7 billion and increased 20%\n",
        "·         Operating income was $22.2 billion and increased 24%\n",
        "·         Net income was $18.8 billion and increased 21%\n",
        "·         Diluted earnings per share was $2.48 and increased 22%\n",
        "“Digital technology is the most malleable resource at the world’s disposal to overcome constraints and reimagine everyday work and life,” said Satya Nadella, chairman and chief executive officer of Microsoft. “As tech as a percentage of global GDP continues to increase, we are innovating and investing across diverse and growing markets, with a common underlying technology stack and an operating model that reinforces a common strategy, culture, and sense of purpose.”\n",
        "“Solid commercial execution, represented by strong bookings growth driven by long-term Azure commitments, increased Microsoft Cloud revenue to $22.1 billion, up 32% year over year” said Amy Hood, executive vice president and chief financial officer of Microsoft.\"\"\"\n"
      ],
      "metadata": {
        "id": "bPspbphtsZpS"
      },
      "execution_count": null,
      "outputs": []
    },
    {
      "cell_type": "code",
      "source": [
        "doc = nlp(earnings_text)\n",
        "\n",
        "filtered_tokens = []\n",
        "for token in doc:\n",
        "  if token.pos_ not in [\"SPACE\", \"PUNCT\", \"X\"]:\n",
        "    filtered_tokens.append(token)"
      ],
      "metadata": {
        "collapsed": true,
        "id": "HPhJ-tp8s43u"
      },
      "execution_count": null,
      "outputs": []
    },
    {
      "cell_type": "code",
      "source": [
        "filtered_tokens[:10]"
      ],
      "metadata": {
        "colab": {
          "base_uri": "https://localhost:8080/"
        },
        "id": "YeUy8416toHk",
        "outputId": "7bad8551-ff07-494a-85f4-8d5218caf32b"
      },
      "execution_count": null,
      "outputs": [
        {
          "output_type": "execute_result",
          "data": {
            "text/plain": [
              "[Microsoft,\n",
              " Corp.,\n",
              " today,\n",
              " announced,\n",
              " the,\n",
              " following,\n",
              " results,\n",
              " for,\n",
              " the,\n",
              " quarter]"
            ]
          },
          "metadata": {},
          "execution_count": 17
        }
      ]
    },
    {
      "cell_type": "code",
      "source": [
        " count = doc.count_by(spacy.attrs.POS)\n",
        " count"
      ],
      "metadata": {
        "colab": {
          "base_uri": "https://localhost:8080/"
        },
        "id": "rdnJhTfAuBty",
        "outputId": "285c38c7-a98e-4b81-a8e5-f465ee96975a"
      },
      "execution_count": null,
      "outputs": [
        {
          "output_type": "execute_result",
          "data": {
            "text/plain": [
              "{96: 13,\n",
              " 92: 46,\n",
              " 100: 24,\n",
              " 90: 9,\n",
              " 85: 16,\n",
              " 93: 16,\n",
              " 97: 27,\n",
              " 98: 1,\n",
              " 84: 20,\n",
              " 103: 10,\n",
              " 87: 6,\n",
              " 99: 5,\n",
              " 89: 12,\n",
              " 86: 3,\n",
              " 94: 3,\n",
              " 95: 2}"
            ]
          },
          "metadata": {},
          "execution_count": 18
        }
      ]
    },
    {
      "cell_type": "code",
      "source": [
        "doc.vocab[96].text"
      ],
      "metadata": {
        "colab": {
          "base_uri": "https://localhost:8080/",
          "height": 35
        },
        "id": "kud5EXksubPh",
        "outputId": "06a124c9-f479-4343-aae7-bc5b8b14db07"
      },
      "execution_count": null,
      "outputs": [
        {
          "output_type": "execute_result",
          "data": {
            "text/plain": [
              "'PROPN'"
            ],
            "application/vnd.google.colaboratory.intrinsic+json": {
              "type": "string"
            }
          },
          "metadata": {},
          "execution_count": 20
        }
      ]
    },
    {
      "cell_type": "code",
      "source": [
        "for k,v in count.items():\n",
        "  print(doc.vocab[k].text, \"|\",v)"
      ],
      "metadata": {
        "colab": {
          "base_uri": "https://localhost:8080/"
        },
        "id": "0sOyXmhruequ",
        "outputId": "941fea82-be6c-4b2c-d07f-fa6d300a4e36"
      },
      "execution_count": null,
      "outputs": [
        {
          "output_type": "stream",
          "name": "stdout",
          "text": [
            "PROPN | 13\n",
            "NOUN | 46\n",
            "VERB | 24\n",
            "DET | 9\n",
            "ADP | 16\n",
            "NUM | 16\n",
            "PUNCT | 27\n",
            "SCONJ | 1\n",
            "ADJ | 20\n",
            "SPACE | 10\n",
            "AUX | 6\n",
            "SYM | 5\n",
            "CCONJ | 12\n",
            "ADV | 3\n",
            "PART | 3\n",
            "PRON | 2\n"
          ]
        }
      ]
    },
    {
      "cell_type": "markdown",
      "source": [
        "#Exercise\n",
        "\n",
        "Exercise for Spacy POS tutorial,\n",
        "\n",
        "1. You are parsing a news story from cnbc.com. News story is stores in news_story.txt.\n",
        "\n",
        "    i. python first to collect all the text and then extract NOUNs in a python list\n",
        "\n",
        "    ii. Extract all numbers (NUM POS type) in a python list\n",
        "    \n",
        "    iii. Print a count of all POS tags in this story"
      ],
      "metadata": {
        "id": "8g5RAEQvu5Sv"
      }
    },
    {
      "cell_type": "markdown",
      "source": [
        "#Reading a store from txt file"
      ],
      "metadata": {
        "id": "S2mG7niox8T1"
      }
    },
    {
      "cell_type": "code",
      "source": [
        "file_path = \"/content/news_story.txt\"\n",
        "with open(file_path, \"r\") as file:\n",
        "  text = file.read()"
      ],
      "metadata": {
        "id": "flBLAGkoupqD"
      },
      "execution_count": null,
      "outputs": []
    },
    {
      "cell_type": "code",
      "source": [
        "text"
      ],
      "metadata": {
        "colab": {
          "base_uri": "https://localhost:8080/",
          "height": 140
        },
        "id": "BZetcfAxwOjZ",
        "outputId": "1ab83e42-bb4b-4ac0-c38e-d9000f30af3e"
      },
      "execution_count": null,
      "outputs": [
        {
          "output_type": "execute_result",
          "data": {
            "text/plain": [
              "'Inflation rose again in April, continuing a climb that has pushed consumers to the brink and is threatening the economic expansion, the Bureau of Labor Statistics reported Wednesday.\\n\\nThe consumer price index, a broad-based measure of prices for goods and services, increased 8.3% from a year ago, higher than the Dow Jones estimate for an 8.1% gain. That represented a slight ease from March’s peak but was still close to the highest level since the summer of 1982.\\n\\nRemoving volatile food and energy prices, so-called core CPI still rose 6.2%, against expectations for a 6% gain, clouding hopes that inflation had peaked in March.\\n\\nThe month-over-month gains also were higher than expectations — 0.3% on headline CPI versus the 0.2% estimate and a 0.6% increase for core, against the outlook for a 0.4% gain.\\n\\nThe price gains also meant that workers continued to lose ground. Real wages adjusted for inflation decreased 0.1% on the month despite a nominal increase of 0.3% in average hourly earnings. Over the past year, real earnings have dropped 2.6% even though average hourly earnings are up 5.5%.\\n\\nInflation has been the single biggest threat to a recovery that began early in the Covid pandemic and saw the economy in 2021 stage its biggest single-year growth level since 1984. Rising prices at the pump and in grocery stores have been one problem, but inflation has spread beyond those two areas into housing, auto sales and a host of other areas.\\n\\nFederal Reserve officials have responded to the problem with two interest rate hikes so far this year and pledges of more until inflation comes down to the central bank’s 2% goal. However, Wednesday’s data shows that the Fed has a big job ahead.\\n\\nCredits: cnbc.com'"
            ],
            "application/vnd.google.colaboratory.intrinsic+json": {
              "type": "string"
            }
          },
          "metadata": {},
          "execution_count": 23
        }
      ]
    },
    {
      "cell_type": "markdown",
      "source": [
        "#Extract NOUNs and NUMs tokens"
      ],
      "metadata": {
        "id": "PRRo4FBpyB7f"
      }
    },
    {
      "cell_type": "code",
      "source": [
        "nouns = []\n",
        "nums = []\n",
        "doc = nlp(text)\n",
        "\n",
        "for token in doc:\n",
        "  if token.pos_ == \"NOUN\":\n",
        "    nouns.append(token)\n",
        "  if token.pos_ == \"NUM\":\n",
        "    nums.append(token)"
      ],
      "metadata": {
        "id": "SRpieUlxwPm0"
      },
      "execution_count": null,
      "outputs": []
    },
    {
      "cell_type": "code",
      "source": [
        "nouns[:10]"
      ],
      "metadata": {
        "colab": {
          "base_uri": "https://localhost:8080/"
        },
        "id": "EazDD0efwx-Y",
        "outputId": "73b89dfd-c19f-4f6c-c71a-6a21dee898c4"
      },
      "execution_count": null,
      "outputs": [
        {
          "output_type": "execute_result",
          "data": {
            "text/plain": [
              "[Inflation,\n",
              " climb,\n",
              " consumers,\n",
              " brink,\n",
              " expansion,\n",
              " consumer,\n",
              " price,\n",
              " index,\n",
              " measure,\n",
              " prices]"
            ]
          },
          "metadata": {},
          "execution_count": 29
        }
      ]
    },
    {
      "cell_type": "code",
      "source": [
        "nums[0:10]"
      ],
      "metadata": {
        "colab": {
          "base_uri": "https://localhost:8080/"
        },
        "id": "2IQnjITiw0V1",
        "outputId": "b633f36c-9178-4924-df66-4969f4aa90c2"
      },
      "execution_count": null,
      "outputs": [
        {
          "output_type": "execute_result",
          "data": {
            "text/plain": [
              "[8.3, 8.1, 1982, 6.2, 6, 0.3, 0.2, 0.6, 0.4, 0.1]"
            ]
          },
          "metadata": {},
          "execution_count": 32
        }
      ]
    },
    {
      "cell_type": "markdown",
      "source": [
        "#Count of all POS tags"
      ],
      "metadata": {
        "id": "F804QIYtyUlv"
      }
    },
    {
      "cell_type": "code",
      "source": [
        "count = doc.count_by(spacy.attrs.POS)\n",
        "count"
      ],
      "metadata": {
        "colab": {
          "base_uri": "https://localhost:8080/"
        },
        "id": "KT9r1UeHxIvD",
        "outputId": "72617411-b653-45ce-a46e-0acbb920a07f"
      },
      "execution_count": null,
      "outputs": [
        {
          "output_type": "execute_result",
          "data": {
            "text/plain": [
              "{92: 96,\n",
              " 100: 27,\n",
              " 86: 15,\n",
              " 85: 39,\n",
              " 96: 16,\n",
              " 97: 32,\n",
              " 90: 34,\n",
              " 95: 4,\n",
              " 87: 13,\n",
              " 89: 10,\n",
              " 84: 23,\n",
              " 103: 7,\n",
              " 93: 19,\n",
              " 94: 4,\n",
              " 98: 8,\n",
              " 101: 1}"
            ]
          },
          "metadata": {},
          "execution_count": 36
        }
      ]
    },
    {
      "cell_type": "code",
      "source": [
        "for k,v in count.items():\n",
        "  print(doc.vocab[k].text, \" | \", v)"
      ],
      "metadata": {
        "colab": {
          "base_uri": "https://localhost:8080/"
        },
        "id": "dn5Y07uzxkI-",
        "outputId": "5c82897b-be04-4fd6-9c16-93d12774bb28"
      },
      "execution_count": null,
      "outputs": [
        {
          "output_type": "stream",
          "name": "stdout",
          "text": [
            "NOUN  |  96\n",
            "VERB  |  27\n",
            "ADV  |  15\n",
            "ADP  |  39\n",
            "PROPN  |  16\n",
            "PUNCT  |  32\n",
            "DET  |  34\n",
            "PRON  |  4\n",
            "AUX  |  13\n",
            "CCONJ  |  10\n",
            "ADJ  |  23\n",
            "SPACE  |  7\n",
            "NUM  |  19\n",
            "PART  |  4\n",
            "SCONJ  |  8\n",
            "X  |  1\n"
          ]
        }
      ]
    },
    {
      "cell_type": "code",
      "source": [],
      "metadata": {
        "id": "06w5JWeFx1ey"
      },
      "execution_count": null,
      "outputs": []
    }
  ]
}